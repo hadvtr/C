{
  "cells": [
    {
      "cell_type": "code",
      "execution_count": null,
      "metadata": {
        "colab": {
          "base_uri": "https://localhost:8080/"
        },
        "id": "-XYsAWpktw3x",
        "outputId": "d3fd00ae-997f-495a-ff1f-5cbacd0fef02"
      },
      "outputs": [
        {
          "output_type": "stream",
          "name": "stdout",
          "text": [
            "Overwriting main.c\n"
          ]
        }
      ],
      "source": [
        "%%writefile main.c\n",
        "\n",
        "// QUESTÃO 01\n",
        "\n",
        "#include <stdio.h>\n",
        "\n",
        "void main (){\n",
        "  int num, num1, num2, num3, num4;\n",
        "  printf(\"Digite 4 números: \");\n",
        "  scanf(\"%d %d %d %d\",&num1, &num2, &num3,&num4);\n",
        "\n",
        "  printf(\"%d %d %d %d\",num1, num2, num3, num4);\n",
        "\n",
        "  printf(\"\\n%d %d %d %d\", num1+1, num2+1, num3+1, num4+1);\n",
        "\n",
        "}"
      ]
    },
    {
      "cell_type": "code",
      "execution_count": null,
      "metadata": {
        "colab": {
          "base_uri": "https://localhost:8080/"
        },
        "id": "Su1u8Es1zwy3",
        "outputId": "aa999bfc-e592-405b-b970-242c0985c941"
      },
      "outputs": [
        {
          "output_type": "stream",
          "name": "stdout",
          "text": [
            "Writing main.c\n"
          ]
        }
      ],
      "source": [
        "%%writefile main.c\n",
        "\n",
        "// QUESTÃO 02\n",
        "\n",
        "#include <stdio.h>\n",
        "\n",
        "void main(){\n",
        "  int nota1, nota2, nota3;\n",
        "  float media;\n",
        "\n",
        "  printf(\"Digite a nota das três provas: \");\n",
        "  scanf(\"%d %d %d\", &nota1,&nota2,&nota3);\n",
        "\n",
        "  media = (nota1+nota2+nota3)/3.0;\n",
        "  printf(\"A média aritmética é: %f\",media);\n",
        "\n",
        "}"
      ]
    },
    {
      "cell_type": "code",
      "execution_count": null,
      "metadata": {
        "colab": {
          "base_uri": "https://localhost:8080/"
        },
        "id": "3hPod6dNMsKB",
        "outputId": "6fd6ba6c-121e-4e52-c941-36b22470f0f9"
      },
      "outputs": [
        {
          "output_type": "stream",
          "name": "stdout",
          "text": [
            "Overwriting main.c\n"
          ]
        }
      ],
      "source": [
        "%%writefile main.c\n",
        "\n",
        "// QUESTÃO 03\n",
        "\n",
        "#include <stdio.h>\n",
        "#include <math.h>\n",
        "\n",
        "void main(){\n",
        "  float nota1, nota2, nota3, media;\n",
        "\n",
        "  printf(\"Digite a nota das três provas: \");\n",
        "  scanf(\"%f %f %f\", &nota1, &nota2,&nota3);\n",
        "\n",
        "  media = pow((nota1*nota2*nota3),(1.0/3));\n",
        "  printf(\"A média geométrica é: %f\",media);\n",
        "}"
      ]
    },
    {
      "cell_type": "code",
      "execution_count": null,
      "metadata": {
        "colab": {
          "base_uri": "https://localhost:8080/"
        },
        "id": "c9lKDQwaTRi-",
        "outputId": "79564851-d867-4d0c-cc93-02160366c62b"
      },
      "outputs": [
        {
          "output_type": "stream",
          "name": "stdout",
          "text": [
            "Overwriting main.c\n"
          ]
        }
      ],
      "source": [
        "%%writefile main.c\n",
        "\n",
        "// QUESTÃO 04\n",
        "\n",
        "#include <stdio.h>\n",
        "\n",
        "void main(){\n",
        "  float nota1, nota2, nota3, media;\n",
        "\n",
        "  printf(\"Digite as notas das três provas: \");\n",
        "  scanf(\"%f %f %f\",&nota1, &nota2, &nota3);\n",
        "\n",
        "  media = (nota1*1+nota2*2+nota3*3)/(1+2+3);\n",
        "  printf(\"A média ponderada é: %f\",media);\n",
        "}"
      ]
    },
    {
      "cell_type": "code",
      "execution_count": null,
      "metadata": {
        "colab": {
          "base_uri": "https://localhost:8080/"
        },
        "id": "LQNlUq8kUZYk",
        "outputId": "ea2bb93a-9718-4d2a-ba0f-708eb67d11ee"
      },
      "outputs": [
        {
          "output_type": "stream",
          "name": "stdout",
          "text": [
            "Overwriting main.c\n"
          ]
        }
      ],
      "source": [
        "%%writefile main.c\n",
        "\n",
        "// QUESTÃO 05\n",
        "\n",
        "#include <stdio.h>\n",
        "\n",
        "void main(){\n",
        "  float bimestre1, bimestre2, media;\n",
        "\n",
        "  printf(\"Digite a nota do primeiro bimestre: \");\n",
        "  scanf(\"%f\",&bimestre1);\n",
        "\n",
        "  printf(\"Digite a nota do segundo bimestre: \");\n",
        "  scanf(\"%f\",&bimestre2);\n",
        "\n",
        "  media = (bimestre1*2+bimestre2*3)/(2+3);\n",
        "  printf(\"A média do semestre é: %f\", media);\n",
        "}"
      ]
    },
    {
      "cell_type": "code",
      "execution_count": null,
      "metadata": {
        "colab": {
          "base_uri": "https://localhost:8080/"
        },
        "id": "O6J6pEkLWPmR",
        "outputId": "2f5a936a-e543-4589-9d62-7cf389d0f98e"
      },
      "outputs": [
        {
          "name": "stdout",
          "output_type": "stream",
          "text": [
            "Overwriting main.c\n"
          ]
        }
      ],
      "source": [
        "%%writefile main.c\n",
        "\n",
        "// QUESTÃO 06\n",
        "\n",
        "#include <stdio.h>\n",
        "\n",
        "void main(){\n",
        "  float marido, esposa, totalgasto, pmarido, pesposa, valordevidom, valordevidoe, saldom, saldoe;\n",
        "\n",
        "  printf(\"Quanto o marido gastou \");\n",
        "  scanf(\"%f\",&marido);\n",
        "  printf(\"Quanto a esposa gastou: \");\n",
        "  scanf(\"%f\",&esposa);\n",
        "\n",
        "  totalgasto = marido+esposa;\n",
        "  pmarido = (marido/totalgasto)*100;\n",
        "  pesposa = (esposa/totalgasto)*100;\n",
        "  valordevidom = totalgasto/2;\n",
        "  valordevidoe = totalgasto/2;\n",
        "  saldom = (marido-valordevidom);\n",
        "  saldoe = (esposa-valordevidoe);\n",
        "\n",
        "  printf(\"O saldo do marido é %f, e da esposa é %f. Portanto, quem estiver com o saldo negativo, deve pagar esse valor para o/a companheiro/a.\", saldom, saldoe);\n",
        "}"
      ]
    },
    {
      "cell_type": "code",
      "execution_count": null,
      "metadata": {
        "colab": {
          "base_uri": "https://localhost:8080/"
        },
        "id": "1TZRV_JDGRHr",
        "outputId": "759ccfa8-f68d-4909-e90a-6d24daeb2b8c"
      },
      "outputs": [
        {
          "output_type": "stream",
          "name": "stdout",
          "text": [
            "Writing main.c\n"
          ]
        }
      ],
      "source": [
        "%%writefile main.c\n",
        "\n",
        "// QUESTÃO 07\n",
        "\n",
        "#include <stdio.h>\n",
        "\n",
        "void main(){\n",
        "  int pulsosexcedentes, quantidadechamadas;\n",
        "  float valorinterurbanos, calculopulsos, calculochamadas, total;\n",
        "  float assinatura = 21.40;\n",
        "  float chamadaporpulso = 0.40;\n",
        "  float pulsos = 0.03;\n",
        "\n",
        "  printf(\"Digite os pulsos excedentes: \");\n",
        "  scanf(\"%d\",&pulsosexcedentes);\n",
        "  printf(\"Digite o valor de interurbanos: \");\n",
        "  scanf(\"%f\",&valorinterurbanos);\n",
        "  printf(\"Digite a quantidade de chamadas para celular: \");\n",
        "  scanf(\"%d\",&quantidadechamadas);\n",
        "\n",
        "  calculopulsos= pulsosexcedentes * pulsos;\n",
        "  calculochamadas= chamadaporpulso*quantidadechamadas;\n",
        "\n",
        "  total = assinatura + calculopulsos + valorinterurbanos + calculochamadas;\n",
        "  printf(\"\\nO valor da conta é R$%f\",total);\n",
        "\n",
        "\n",
        "}"
      ]
    },
    {
      "cell_type": "code",
      "execution_count": null,
      "metadata": {
        "colab": {
          "base_uri": "https://localhost:8080/"
        },
        "id": "sJy1dpBvqiqd",
        "outputId": "0a5684d3-10d9-4bb6-8587-9de444bc405d"
      },
      "outputs": [
        {
          "output_type": "stream",
          "name": "stdout",
          "text": [
            "Digite as notas das três provas: 8\n",
            "\n",
            "4\n",
            "9\n",
            "A média ponderada é: 7.166667"
          ]
        },
        {
          "output_type": "execute_result",
          "data": {
            "text/plain": []
          },
          "metadata": {},
          "execution_count": 3
        }
      ],
      "source": [
        "%%shell\n",
        "gcc main.c -o main -lm\n",
        "./main"
      ]
    }
  ],
  "metadata": {
    "colab": {
      "provenance": []
    },
    "kernelspec": {
      "display_name": "Python 3",
      "name": "python3"
    },
    "language_info": {
      "name": "python"
    }
  },
  "nbformat": 4,
  "nbformat_minor": 0
}