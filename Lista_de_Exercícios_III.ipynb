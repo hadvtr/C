{
  "nbformat": 4,
  "nbformat_minor": 0,
  "metadata": {
    "colab": {
      "provenance": []
    },
    "kernelspec": {
      "name": "python3",
      "display_name": "Python 3"
    },
    "language_info": {
      "name": "python"
    }
  },
  "cells": [
    {
      "cell_type": "code",
      "source": [
        "%%writefile main.c\n",
        "\n",
        "// QUESTÃO 01\n",
        "\n",
        "#include <stdio.h>\n",
        "#include <math.h>\n",
        "#define pi 3.14\n",
        "\n",
        "float volumeesfera(float r){\n",
        "  float calculo;\n",
        "  calculo = (4*pi*pow(r,3))/3;\n",
        "  return calculo;\n",
        "}\n",
        "\n",
        "void main (){\n",
        "  float x,v;\n",
        "  printf(\"Digite o raio da esfera: \");\n",
        "  scanf(\"%f\",&x);\n",
        "  v = volumeesfera(x);\n",
        "  printf(\"O volume da esfera é %.2f\",v);\n",
        "}"
      ],
      "metadata": {
        "colab": {
          "base_uri": "https://localhost:8080/"
        },
        "id": "HA0yrpIGyOcp",
        "outputId": "a8cfb892-6203-4cf0-ffb1-abdab26159a2"
      },
      "execution_count": null,
      "outputs": [
        {
          "output_type": "stream",
          "name": "stdout",
          "text": [
            "Overwriting main.c\n"
          ]
        }
      ]
    },
    {
      "cell_type": "code",
      "source": [
        "%%writefile main.c\n",
        "\n",
        "// QUESTÃO 02\n",
        "\n",
        "#include <stdio.h>\n",
        "\n",
        "float aluno(float n1, float n2, float n3, char letra){\n",
        "  float media,a,p,h;\n",
        "  if(letra=='a'){\n",
        "    media=(n1+n2+n3)/3;\n",
        "  }\n",
        "  if (letra=='p'){\n",
        "    media=(5*n1+3*n2+2*n3)/(5+3+2);\n",
        "  }\n",
        "  if (letra=='h'){\n",
        "    media=(3/(1/n1+1/n2+1/n3));\n",
        "  }\n",
        "  return media;\n",
        "}\n",
        "\n",
        "void main (){\n",
        "  float n1,n2,n3;\n",
        "  char letra;\n",
        "  float m;\n",
        "  printf(\"Digite as três notas do aluno:\");\n",
        "  scanf(\"%f%f%f\",&n1,&n2,&n3);\n",
        "  printf(\"MENU DE OPÇÕES\\na:calcular a média aritmética.\\np:calcular a média ponderada.\\nh:calcular a média harmônica\\nDigite a letra da operação da qual  você deseja realizar:\");\n",
        "  scanf(\" %c\",&letra);\n",
        "  m = aluno(n1,n2,n3,letra);\n",
        "  printf(\"De acordo com a operação escolhida, a média do aluno é %.2f\",m);\n",
        "\n",
        "}"
      ],
      "metadata": {
        "colab": {
          "base_uri": "https://localhost:8080/"
        },
        "id": "nKf1QzKNotw3",
        "outputId": "31e0b6c4-57dc-43b1-cfbe-893117fef942"
      },
      "execution_count": null,
      "outputs": [
        {
          "output_type": "stream",
          "name": "stdout",
          "text": [
            "Overwriting main.c\n"
          ]
        }
      ]
    },
    {
      "cell_type": "code",
      "source": [
        "%%writefile main.c\n",
        "\n",
        "// QUESTÃO 03\n",
        "\n",
        "#include <stdio.h>\n",
        "#include <math.h>\n",
        "\n",
        "float bhaskara(float a, float b, float c){\n",
        "  float x1, x2, delta;\n",
        "  delta = (b*b)-4.0*a*c;\n",
        "\n",
        "  if(delta<1){\n",
        "    printf(\"Não é possível calcular a raiz.\");\n",
        "  } else {\n",
        "    x1=((-b)+sqrt(delta))/(2.0*a);\n",
        "    printf(\"A primeira raiz é %f\",x1);\n",
        "\n",
        "    x2=((-b)-sqrt(delta))/(2.0*a);\n",
        "    printf(\"\\nA segunda raiz é %f\",x2);\n",
        "  }\n",
        "\n",
        "\n",
        "}\n",
        "\n",
        "void main (){\n",
        "  float a,b,c,x;\n",
        "  printf(\"Digite o valor de a: \");\n",
        "  scanf(\"%f\",&a);\n",
        "  printf(\"Digite o valor de b: \");\n",
        "  scanf(\"%f\",&b);\n",
        "  printf(\"Digite o valor de c: \");\n",
        "  scanf(\"%f\",&c);\n",
        "  x=bhaskara(a,b,c);\n",
        "\n",
        "}\n",
        "\n"
      ],
      "metadata": {
        "id": "bCxXdQuPvGD9",
        "colab": {
          "base_uri": "https://localhost:8080/"
        },
        "outputId": "3d92c321-e8d9-4e43-f336-df1d8e8f4278"
      },
      "execution_count": null,
      "outputs": [
        {
          "output_type": "stream",
          "name": "stdout",
          "text": [
            "Overwriting main.c\n"
          ]
        }
      ]
    },
    {
      "cell_type": "code",
      "source": [
        "%%writefile main.c\n",
        "\n",
        "// QUESTÃO 04\n",
        "\n",
        "#include <stdio.h>\n",
        "#include <math.h>\n",
        "\n",
        "int categoria(int idade){\n",
        "  char letra;\n",
        "  if(idade>=5 && idade<=7){\n",
        "    letra='A';\n",
        "  }\n",
        "  if(idade>=8 && idade<=10){\n",
        "    letra='B';\n",
        "  }\n",
        "  if(idade>=11 && idade<=13){\n",
        "    letra='C';\n",
        "  }\n",
        "  if(idade>=14 && idade<=17){\n",
        "    letra='D';\n",
        "  }\n",
        "  if(idade>=18){\n",
        "    letra='E';\n",
        "  }\n",
        "  return letra;\n",
        "}\n",
        "\n",
        "void main (){\n",
        "  int x;\n",
        "  char cat;\n",
        "  printf(\"Digite a idade do nadador: \");\n",
        "  scanf(\"%d\",&x);\n",
        "  cat=categoria(x);\n",
        "  printf(\"O nadador é da categoria %c\",cat);\n",
        "}"
      ],
      "metadata": {
        "colab": {
          "base_uri": "https://localhost:8080/"
        },
        "id": "xsbCjKclGMUF",
        "outputId": "de22f669-9666-43ad-f46a-5e4759f93660"
      },
      "execution_count": null,
      "outputs": [
        {
          "output_type": "stream",
          "name": "stdout",
          "text": [
            "Overwriting main.c\n"
          ]
        }
      ]
    },
    {
      "cell_type": "code",
      "source": [
        "%%writefile main.c\n",
        "\n",
        "// QUESTÃO 05\n",
        "\n",
        "#include <stdio.h>\n",
        "\n",
        "int tempo (int h1, int m1, int h2, int m2){\n",
        "  int minutos;\n",
        "  h1=h1*60;\n",
        "  h2=h2*60;\n",
        "  minutos=(h2+m2)-(h1+m1);\n",
        "  return minutos;\n",
        "}\n",
        "\n",
        "void main (){\n",
        "  int x1,y1,x2,y2,total;\n",
        "  printf(\"Digite a hora e minuto do começo do jogo: \");\n",
        "  scanf(\"%d%d\",&x1,&y1);\n",
        "  printf(\"Digite a hora e minuto do término do jogo: \");\n",
        "  scanf(\"%d%d\",&x2,&y2);\n",
        "  total = tempo(x1,y1,x2,y2);\n",
        "  printf(\"A partida durou %d minutos.\",total);\n",
        "\n",
        "}"
      ],
      "metadata": {
        "colab": {
          "base_uri": "https://localhost:8080/"
        },
        "id": "2r4cMtTeX9ox",
        "outputId": "24ea847f-efd0-470a-f93d-63a67d02c090"
      },
      "execution_count": null,
      "outputs": [
        {
          "output_type": "stream",
          "name": "stdout",
          "text": [
            "Writing main.c\n"
          ]
        }
      ]
    },
    {
      "cell_type": "code",
      "execution_count": null,
      "metadata": {
        "colab": {
          "base_uri": "https://localhost:8080/"
        },
        "id": "Eb7-6WsRhXUB",
        "outputId": "4c111d97-eb00-4835-cc9f-7d1a59dcc729"
      },
      "outputs": [
        {
          "output_type": "stream",
          "name": "stdout",
          "text": [
            "Digite o valor de a: 3\n",
            "Digite o valor de b: 5\n",
            "Digite o valor de c: 7\n",
            "Não é possível calcular a raiz."
          ]
        },
        {
          "output_type": "execute_result",
          "data": {
            "text/plain": []
          },
          "metadata": {},
          "execution_count": 28
        }
      ],
      "source": [
        "%%shell\n",
        "gcc main.c -o main -lm\n",
        "./main"
      ]
    }
  ]
}