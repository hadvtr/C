{
  "nbformat": 4,
  "nbformat_minor": 0,
  "metadata": {
    "colab": {
      "provenance": []
    },
    "kernelspec": {
      "name": "python3",
      "display_name": "Python 3"
    },
    "language_info": {
      "name": "python"
    }
  },
  "cells": [
    {
      "cell_type": "code",
      "execution_count": null,
      "metadata": {
        "colab": {
          "base_uri": "https://localhost:8080/"
        },
        "id": "QQKgqJfJAmUP",
        "outputId": "86c297f7-f71d-4584-87c2-0da749e7c400"
      },
      "outputs": [
        {
          "output_type": "stream",
          "name": "stdout",
          "text": [
            "Overwriting main.c\n"
          ]
        }
      ],
      "source": [
        "%%writefile main.c\n",
        "\n",
        "// QUESTÃO 01\n",
        "\n",
        "#include <stdio.h>\n",
        "\n",
        "void main (){\n",
        "  int op;\n",
        "  float num1, num2;\n",
        "\n",
        "  printf(\"1.Soma\\n2.Subtração\\n3.Multiplicação\\n4.Divisão\\nDigite o número da operação que você deseja realizar: \");\n",
        "  scanf(\"%d\",&op);\n",
        "\n",
        "  printf(\"Digite o primeiro número que você seja realizar a operação: \");\n",
        "  scanf(\"%f\",&num1);\n",
        "  printf(\"Digite o segundo número que você seja realizar a operação: \");\n",
        "  scanf(\"%f\",&num2);\n",
        "\n",
        "  if(op!=5){\n",
        "    if(op==1)\n",
        "      printf(\"O resultado da operação: %f\",num1+num2);\n",
        "\n",
        "    if(op==2)\n",
        "      printf(\"O resultado da operação é: %f\",num1-num2);\n",
        "\n",
        "    if(op==3)\n",
        "      printf(\"O resultado da operação é: %f\",num1*num2);\n",
        "\n",
        "    if(op==4)\n",
        "      printf(\"O resultado da operação é: %f\",num1/num2);\n",
        "\n",
        "  } else {\n",
        "    printf (\"Número inválido!\");\n",
        "  }\n",
        "\n",
        "}"
      ]
    },
    {
      "cell_type": "code",
      "source": [
        "%%writefile main.c\n",
        "\n",
        "// QUESTÃO 02\n",
        "\n",
        "#include <stdio.h>\n",
        "\n",
        "void main (){\n",
        "  int num, resto;\n",
        "\n",
        "  printf(\"Digite um número: \");\n",
        "  scanf(\"%d\",&num);\n",
        "\n",
        "  resto = num%2;\n",
        "\n",
        "  if(resto==0){\n",
        "    printf(\"O número é par!\");\n",
        "  } else {\n",
        "    printf(\"O número é ímpar!\");\n",
        "  }\n",
        "}"
      ],
      "metadata": {
        "colab": {
          "base_uri": "https://localhost:8080/"
        },
        "id": "avVK8TrkH3-6",
        "outputId": "a6530bda-7728-471e-c589-c22f219453d8"
      },
      "execution_count": null,
      "outputs": [
        {
          "output_type": "stream",
          "name": "stdout",
          "text": [
            "Writing main.c\n"
          ]
        }
      ]
    },
    {
      "cell_type": "code",
      "source": [
        "%%writefile main.c\n",
        "\n",
        "// QUESTÃO 03\n",
        "\n",
        "#include <stdio.h>\n",
        "\n",
        "void main (){\n",
        "  int num1, num2;\n",
        "\n",
        "  printf(\"Digite o primeiro número: \");\n",
        "  scanf(\"%d\",&num1);\n",
        "  printf(\"Digite o segundo número: \");\n",
        "  scanf(\"%d\",&num2);\n",
        "\n",
        "  if (num1>num2){\n",
        "    printf(\"O maior número digitado é: %d\",num1);\n",
        "  } else {\n",
        "    printf(\"O maior número digitado foi o %d.\",num2);\n",
        "  }\n",
        "}"
      ],
      "metadata": {
        "colab": {
          "base_uri": "https://localhost:8080/"
        },
        "id": "30nxBDyvLhkC",
        "outputId": "78d05ae7-ae84-4604-ae6a-35c7e7af420e"
      },
      "execution_count": null,
      "outputs": [
        {
          "output_type": "stream",
          "name": "stdout",
          "text": [
            "Overwriting main.c\n"
          ]
        }
      ]
    },
    {
      "cell_type": "code",
      "source": [
        "%%writefile main.c\n",
        "\n",
        "// QUESTÃO 04\n",
        "\n",
        "#include <stdio.h>\n",
        "\n",
        "void main (){\n",
        "  float nota1, nota2, media;\n",
        "\n",
        "  printf(\"Digite a primeira nota: \");\n",
        "  scanf(\"%f\",&nota1);\n",
        "  printf(\"Digite a segunda nota: \");\n",
        "  scanf(\"%f\",&nota2);\n",
        "\n",
        "  media = (nota1+nota2)/2.0;\n",
        "\n",
        "  if(media>=6){\n",
        "    printf(\"Aluno APROVADO!\");\n",
        "  } else {\n",
        "    printf(\"Aluno REPROVADO!\");\n",
        "  }\n",
        "}"
      ],
      "metadata": {
        "colab": {
          "base_uri": "https://localhost:8080/"
        },
        "id": "BOG--e-gM5jO",
        "outputId": "634bdf9a-e2ac-4a12-bd7a-8a12bec8ee06"
      },
      "execution_count": null,
      "outputs": [
        {
          "output_type": "stream",
          "name": "stdout",
          "text": [
            "Overwriting main.c\n"
          ]
        }
      ]
    },
    {
      "cell_type": "code",
      "source": [
        "%%writefile main.c\n",
        "\n",
        "// QUESTÃO 05\n",
        "\n",
        "#include <stdio.h>\n",
        "\n",
        "void main (){\n",
        "  float alt1, alt2;\n",
        "\n",
        "  printf(\"Digite a altura da primeira pessoa: \");\n",
        "  scanf(\"%f\",&alt1);\n",
        "  printf(\"Digite a altura da segunda pessoa: \");\n",
        "  scanf(\"%f\",&alt2);\n",
        "\n",
        "  if (alt1>alt2){\n",
        "    printf(\"A primeira pessoa é a mais alta.\");\n",
        "  } else {\n",
        "    printf(\"A segunda pessoa é a mais alta.\");\n",
        "  }\n",
        "}"
      ],
      "metadata": {
        "colab": {
          "base_uri": "https://localhost:8080/"
        },
        "id": "yAHKKUhEN4vx",
        "outputId": "d33f149b-a378-4651-d4e5-0fa6c8423dfa"
      },
      "execution_count": null,
      "outputs": [
        {
          "output_type": "stream",
          "name": "stdout",
          "text": [
            "Overwriting main.c\n"
          ]
        }
      ]
    },
    {
      "cell_type": "code",
      "source": [
        "%%writefile main.c\n",
        "\n",
        "// QUESTÃO 06\n",
        "\n",
        "#include <stdio.h>\n",
        "\n",
        "void main (){\n",
        "  float p1, p2;\n",
        "\n",
        "  printf(\"Digite o peso da primeira pessoa: \");\n",
        "  scanf(\"%f\",&p1);\n",
        "  printf(\"Digite o peso da segunda pessoa: \");\n",
        "  scanf(\"%f\",&p2);\n",
        "\n",
        "  if (p1>p2){\n",
        "    printf(\"A primeira pessoa é a mais pesada.\");\n",
        "  } else {\n",
        "    printf(\"A segunda pessoa é a mais pesada.\");\n",
        "  }\n",
        "}"
      ],
      "metadata": {
        "colab": {
          "base_uri": "https://localhost:8080/"
        },
        "id": "zFe5r-nQPBsd",
        "outputId": "bd6c2f77-e7ed-438d-d638-aea6457ac914"
      },
      "execution_count": null,
      "outputs": [
        {
          "output_type": "stream",
          "name": "stdout",
          "text": [
            "Overwriting main.c\n"
          ]
        }
      ]
    },
    {
      "cell_type": "code",
      "source": [
        "%%writefile main.c\n",
        "\n",
        "// QUESTÃO 07\n",
        "\n",
        "#include <stdio.h>\n",
        "\n",
        "void main (){\n",
        "  float l1, l2, l3, l4;\n",
        "\n",
        "  printf(\"Digite o valor do primeiro lado: \");\n",
        "  scanf(\"%f\",&l1);\n",
        "  printf(\"Digite o valor do segundo lado: \");\n",
        "  scanf(\"%f\",&l2);\n",
        "  printf(\"Digite o valor do terceiro lado: \");\n",
        "  scanf(\"%f\",&l3);\n",
        "  printf(\"Digite o valor do quarto lado: \");\n",
        "  scanf(\"%f\",&l4);\n",
        "\n",
        "  if(l1==l2 && l2==l3 && l3==l4){\n",
        "    printf(\"É um quadrado.\");\n",
        "  } else {\n",
        "    printf(\"Não é um quadrado.\");\n",
        "  }\n",
        "}"
      ],
      "metadata": {
        "colab": {
          "base_uri": "https://localhost:8080/"
        },
        "id": "-7EMB5sdRR4L",
        "outputId": "cb0db9fc-792b-4606-bee0-f9315722bc1d"
      },
      "execution_count": null,
      "outputs": [
        {
          "output_type": "stream",
          "name": "stdout",
          "text": [
            "Overwriting main.c\n"
          ]
        }
      ]
    },
    {
      "cell_type": "code",
      "source": [
        "%%writefile main.c\n",
        "\n",
        "// QUESTÃO 08\n",
        "\n",
        "#include <stdio.h>\n",
        "\n",
        "void main (){\n",
        "  int n1, n2, n3;\n",
        "\n",
        "  printf(\"Digite o primeiro número: \");\n",
        "  scanf(\"%d\",&n1);\n",
        "  printf(\"Digite o segundo número: \");\n",
        "  scanf(\"%d\",&n2);\n",
        "  printf(\"Digite o terceiro número: \");\n",
        "  scanf(\"%d\",&n3);\n",
        "\n",
        "  if(n1>n2 && n1>n3){\n",
        "    if (n2>n3)\n",
        "      printf(\"%d %d %d\",n3,n2,n1);\n",
        "    if (n3>n2)\n",
        "      printf(\"%d %d %d\",n2,n3,n1);\n",
        "  }\n",
        "  if(n2>n1 && n2>n3){\n",
        "    if (n1>n3)\n",
        "      printf(\"%d %d %d\",n3,n1,n2);\n",
        "    if(n3>n1)\n",
        "      printf(\"%d %d %d\",n1,n3,n2);\n",
        "  }\n",
        "  if(n3>n1 && n3>n2){\n",
        "    if(n1>n2)\n",
        "      printf(\"%d %d %d\",n2,n1,n3);\n",
        "    if(n2>n1)\n",
        "      printf(\"%d %d %d\",n1,n2,n3);\n",
        "  }\n",
        "}"
      ],
      "metadata": {
        "colab": {
          "base_uri": "https://localhost:8080/"
        },
        "id": "Ao6WSVE8T3Lv",
        "outputId": "a207088f-7784-4688-e223-7dc078e01400"
      },
      "execution_count": null,
      "outputs": [
        {
          "output_type": "stream",
          "name": "stdout",
          "text": [
            "Overwriting main.c\n"
          ]
        }
      ]
    },
    {
      "cell_type": "code",
      "source": [
        "%%writefile main.c\n",
        "\n",
        "// QUESTÃO 09\n",
        "\n",
        "#include <stdio.h>\n",
        "\n",
        "void main (){\n",
        "  float peso, altura,imc;\n",
        "\n",
        "  printf(\"Qual seu peso?(em kg) \");\n",
        "  scanf(\"%f\",&peso);\n",
        "  printf(\"Qual sua altura?(em metros) \");\n",
        "  scanf(\"%f\",&altura);\n",
        "\n",
        "  imc=peso/(altura*altura);\n",
        "\n",
        "\n",
        "  if(imc<=18.49)\n",
        "      printf(\"Você está abaixo do peso.\");\n",
        "  if(imc>=18.50 && imc<=24.99)\n",
        "      printf(\"Você está com o peso normal.\");\n",
        "  if(imc>=25)\n",
        "      printf(\"Você está acima do peso.\");\n",
        "  }"
      ],
      "metadata": {
        "colab": {
          "base_uri": "https://localhost:8080/"
        },
        "id": "5k6bxf7waJZv",
        "outputId": "71e709cd-6705-414a-a934-73bd952dc355"
      },
      "execution_count": null,
      "outputs": [
        {
          "output_type": "stream",
          "name": "stdout",
          "text": [
            "Overwriting main.c\n"
          ]
        }
      ]
    },
    {
      "cell_type": "code",
      "source": [
        "%%writefile main.c\n",
        "\n",
        "// QUESTÃO 10\n",
        "\n",
        "#include <stdio.h>\n",
        "\n",
        "void main (){\n",
        "  int n1,n2,n3;\n",
        "  float media;\n",
        "\n",
        "  printf(\"Digite a primeira nota: \");\n",
        "  scanf(\"%d\",&n1);\n",
        "  printf(\"Digite a segunda nota: \");\n",
        "  scanf(\"%d\",&n2);\n",
        "  printf(\"Digite a terceira nota: \");\n",
        "  scanf(\"%d\",&n3);\n",
        "  media = (n1+n2+n3)/3.0;\n",
        "\n",
        "printf(\"A média aritmética do aluno é %.2f\",media);\n",
        "}"
      ],
      "metadata": {
        "id": "IWy0jxoom5h2",
        "colab": {
          "base_uri": "https://localhost:8080/"
        },
        "outputId": "d678c385-9f01-4f5e-97f2-b6c787581a03"
      },
      "execution_count": null,
      "outputs": [
        {
          "output_type": "stream",
          "name": "stdout",
          "text": [
            "Overwriting main.c\n"
          ]
        }
      ]
    },
    {
      "cell_type": "code",
      "source": [
        "%%writefile main.c\n",
        "\n",
        "// QUESTÃO 11\n",
        "\n",
        "#include <stdio.h>\n",
        "\n",
        "void main (){\n",
        "  int idade;\n",
        "\n",
        "  printf(\"Quantos anos você tem? \");\n",
        "  scanf(\"%d\",&idade);\n",
        "\n",
        "  if(idade >=16 && idade<=69){\n",
        "    printf(\"Você pode doar sangue.\");\n",
        "  } else {\n",
        "    printf(\"Você não pode doar sangue.\");\n",
        "  }\n",
        "}"
      ],
      "metadata": {
        "colab": {
          "base_uri": "https://localhost:8080/"
        },
        "id": "t21UFGJdpCm9",
        "outputId": "30753b0b-b3a9-49bd-e344-5a6aa5eeb3fb"
      },
      "execution_count": null,
      "outputs": [
        {
          "output_type": "stream",
          "name": "stdout",
          "text": [
            "Overwriting main.c\n"
          ]
        }
      ]
    },
    {
      "cell_type": "code",
      "source": [
        "%%shell\n",
        "gcc main.c -o main -lm\n",
        "./main"
      ],
      "metadata": {
        "colab": {
          "base_uri": "https://localhost:8080/"
        },
        "id": "Ozn4SHSBA1ea",
        "outputId": "bf53ed3a-5e0c-4808-ff20-18f3cc94483f"
      },
      "execution_count": null,
      "outputs": [
        {
          "output_type": "stream",
          "name": "stdout",
          "text": [
            "Digite o primeiro número: 87\n",
            "Digite o segundo número: 54\n",
            "Digite o terceiro número: 98\n",
            "54 87 98"
          ]
        },
        {
          "output_type": "execute_result",
          "data": {
            "text/plain": []
          },
          "metadata": {},
          "execution_count": 8
        }
      ]
    }
  ]
}